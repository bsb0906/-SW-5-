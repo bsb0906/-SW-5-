{
 "cells": [
  {
   "cell_type": "code",
   "execution_count": 1,
   "id": "8fe06f46",
   "metadata": {},
   "outputs": [],
   "source": [
    "from sklearn.datasets import load_iris\n",
    "import pandas as pd\n",
    "import matplotlib.pyplot as plt\n",
    "%matplotlib inline"
   ]
  },
  {
   "attachments": {},
   "cell_type": "markdown",
   "id": "e451d25d",
   "metadata": {},
   "source": [
    "## grid_silver, grid_kid 생성"
   ]
  },
  {
   "cell_type": "code",
   "execution_count": 2,
   "id": "5273db87",
   "metadata": {
    "scrolled": true
   },
   "outputs": [
    {
     "data": {
      "text/html": [
       "<div>\n",
       "<style scoped>\n",
       "    .dataframe tbody tr th:only-of-type {\n",
       "        vertical-align: middle;\n",
       "    }\n",
       "\n",
       "    .dataframe tbody tr th {\n",
       "        vertical-align: top;\n",
       "    }\n",
       "\n",
       "    .dataframe thead th {\n",
       "        text-align: right;\n",
       "    }\n",
       "</style>\n",
       "<table border=\"1\" class=\"dataframe\">\n",
       "  <thead>\n",
       "    <tr style=\"text-align: right;\">\n",
       "      <th></th>\n",
       "      <th>Unnamed: 0</th>\n",
       "      <th>x_index</th>\n",
       "      <th>y_index</th>\n",
       "      <th>격자 당 경로당 수</th>\n",
       "      <th>geometry</th>\n",
       "      <th>행정동</th>\n",
       "      <th>격자 당 어린이 보육시설 수</th>\n",
       "    </tr>\n",
       "  </thead>\n",
       "  <tbody>\n",
       "    <tr>\n",
       "      <th>0</th>\n",
       "      <td>0</td>\n",
       "      <td>0</td>\n",
       "      <td>22</td>\n",
       "      <td>0</td>\n",
       "      <td>POLYGON ((127.0561797939232 37.53325271346528,...</td>\n",
       "      <td>자양4동</td>\n",
       "      <td>0</td>\n",
       "    </tr>\n",
       "    <tr>\n",
       "      <th>1</th>\n",
       "      <td>1</td>\n",
       "      <td>0</td>\n",
       "      <td>23</td>\n",
       "      <td>0</td>\n",
       "      <td>POLYGON ((127.05619047599266 37.53145004424569...</td>\n",
       "      <td>자양4동</td>\n",
       "      <td>0</td>\n",
       "    </tr>\n",
       "    <tr>\n",
       "      <th>2</th>\n",
       "      <td>2</td>\n",
       "      <td>0</td>\n",
       "      <td>24</td>\n",
       "      <td>0</td>\n",
       "      <td>POLYGON ((127.05620115711046 37.52964737447184...</td>\n",
       "      <td>자양4동</td>\n",
       "      <td>0</td>\n",
       "    </tr>\n",
       "    <tr>\n",
       "      <th>3</th>\n",
       "      <td>3</td>\n",
       "      <td>0</td>\n",
       "      <td>25</td>\n",
       "      <td>0</td>\n",
       "      <td>POLYGON ((127.05621183727676 37.52784470414376...</td>\n",
       "      <td>자양4동</td>\n",
       "      <td>0</td>\n",
       "    </tr>\n",
       "    <tr>\n",
       "      <th>4</th>\n",
       "      <td>4</td>\n",
       "      <td>1</td>\n",
       "      <td>20</td>\n",
       "      <td>0</td>\n",
       "      <td>POLYGON ((127.05842217001221 37.53686653680621...</td>\n",
       "      <td>자양4동</td>\n",
       "      <td>0</td>\n",
       "    </tr>\n",
       "    <tr>\n",
       "      <th>...</th>\n",
       "      <td>...</td>\n",
       "      <td>...</td>\n",
       "      <td>...</td>\n",
       "      <td>...</td>\n",
       "      <td>...</td>\n",
       "      <td>...</td>\n",
       "      <td>...</td>\n",
       "    </tr>\n",
       "    <tr>\n",
       "      <th>478</th>\n",
       "      <td>478</td>\n",
       "      <td>25</td>\n",
       "      <td>8</td>\n",
       "      <td>0</td>\n",
       "      <td>POLYGON ((127.11264035105809 37.55868932524784...</td>\n",
       "      <td>광장동</td>\n",
       "      <td>0</td>\n",
       "    </tr>\n",
       "    <tr>\n",
       "      <th>479</th>\n",
       "      <td>479</td>\n",
       "      <td>25</td>\n",
       "      <td>9</td>\n",
       "      <td>0</td>\n",
       "      <td>POLYGON ((127.11264968278773 37.55688665089398...</td>\n",
       "      <td>광장동</td>\n",
       "      <td>0</td>\n",
       "    </tr>\n",
       "    <tr>\n",
       "      <th>480</th>\n",
       "      <td>480</td>\n",
       "      <td>25</td>\n",
       "      <td>10</td>\n",
       "      <td>0</td>\n",
       "      <td>POLYGON ((127.11265901368601 37.55508397598633...</td>\n",
       "      <td>광장동</td>\n",
       "      <td>0</td>\n",
       "    </tr>\n",
       "    <tr>\n",
       "      <th>481</th>\n",
       "      <td>481</td>\n",
       "      <td>25</td>\n",
       "      <td>11</td>\n",
       "      <td>0</td>\n",
       "      <td>POLYGON ((127.11266834375294 37.55328130052497...</td>\n",
       "      <td>광장동</td>\n",
       "      <td>0</td>\n",
       "    </tr>\n",
       "    <tr>\n",
       "      <th>482</th>\n",
       "      <td>482</td>\n",
       "      <td>26</td>\n",
       "      <td>9</td>\n",
       "      <td>0</td>\n",
       "      <td>POLYGON ((127.11491404779768 37.55689405789824...</td>\n",
       "      <td>광장동</td>\n",
       "      <td>0</td>\n",
       "    </tr>\n",
       "  </tbody>\n",
       "</table>\n",
       "<p>483 rows × 7 columns</p>\n",
       "</div>"
      ],
      "text/plain": [
       "     Unnamed: 0  x_index  y_index  격자 당 경로당 수   \n",
       "0             0        0       22           0  \\\n",
       "1             1        0       23           0   \n",
       "2             2        0       24           0   \n",
       "3             3        0       25           0   \n",
       "4             4        1       20           0   \n",
       "..          ...      ...      ...         ...   \n",
       "478         478       25        8           0   \n",
       "479         479       25        9           0   \n",
       "480         480       25       10           0   \n",
       "481         481       25       11           0   \n",
       "482         482       26        9           0   \n",
       "\n",
       "                                              geometry   행정동  격자 당 어린이 보육시설 수  \n",
       "0    POLYGON ((127.0561797939232 37.53325271346528,...  자양4동                0  \n",
       "1    POLYGON ((127.05619047599266 37.53145004424569...  자양4동                0  \n",
       "2    POLYGON ((127.05620115711046 37.52964737447184...  자양4동                0  \n",
       "3    POLYGON ((127.05621183727676 37.52784470414376...  자양4동                0  \n",
       "4    POLYGON ((127.05842217001221 37.53686653680621...  자양4동                0  \n",
       "..                                                 ...   ...              ...  \n",
       "478  POLYGON ((127.11264035105809 37.55868932524784...   광장동                0  \n",
       "479  POLYGON ((127.11264968278773 37.55688665089398...   광장동                0  \n",
       "480  POLYGON ((127.11265901368601 37.55508397598633...   광장동                0  \n",
       "481  POLYGON ((127.11266834375294 37.55328130052497...   광장동                0  \n",
       "482  POLYGON ((127.11491404779768 37.55689405789824...   광장동                0  \n",
       "\n",
       "[483 rows x 7 columns]"
      ]
     },
     "execution_count": 2,
     "metadata": {},
     "output_type": "execute_result"
    }
   ],
   "source": [
    "grid = pd.read_csv('grid_data.csv')\n",
    "grid"
   ]
  },
  {
   "cell_type": "code",
   "execution_count": 3,
   "id": "5d10f7a5",
   "metadata": {},
   "outputs": [
    {
     "data": {
      "text/html": [
       "<div>\n",
       "<style scoped>\n",
       "    .dataframe tbody tr th:only-of-type {\n",
       "        vertical-align: middle;\n",
       "    }\n",
       "\n",
       "    .dataframe tbody tr th {\n",
       "        vertical-align: top;\n",
       "    }\n",
       "\n",
       "    .dataframe thead th {\n",
       "        text-align: right;\n",
       "    }\n",
       "</style>\n",
       "<table border=\"1\" class=\"dataframe\">\n",
       "  <thead>\n",
       "    <tr style=\"text-align: right;\">\n",
       "      <th></th>\n",
       "      <th>행정동</th>\n",
       "      <th>유아비율(%)</th>\n",
       "      <th>노인비율(%)</th>\n",
       "    </tr>\n",
       "  </thead>\n",
       "  <tbody>\n",
       "    <tr>\n",
       "      <th>1</th>\n",
       "      <td>중곡1동</td>\n",
       "      <td>3.137460</td>\n",
       "      <td>17.118766</td>\n",
       "    </tr>\n",
       "    <tr>\n",
       "      <th>2</th>\n",
       "      <td>중곡2동</td>\n",
       "      <td>3.295395</td>\n",
       "      <td>16.238869</td>\n",
       "    </tr>\n",
       "    <tr>\n",
       "      <th>3</th>\n",
       "      <td>중곡3동</td>\n",
       "      <td>3.267482</td>\n",
       "      <td>18.419567</td>\n",
       "    </tr>\n",
       "    <tr>\n",
       "      <th>4</th>\n",
       "      <td>중곡4동</td>\n",
       "      <td>3.146067</td>\n",
       "      <td>19.300874</td>\n",
       "    </tr>\n",
       "    <tr>\n",
       "      <th>5</th>\n",
       "      <td>능동</td>\n",
       "      <td>3.533095</td>\n",
       "      <td>14.919499</td>\n",
       "    </tr>\n",
       "    <tr>\n",
       "      <th>6</th>\n",
       "      <td>구의1동</td>\n",
       "      <td>3.121392</td>\n",
       "      <td>14.161714</td>\n",
       "    </tr>\n",
       "    <tr>\n",
       "      <th>7</th>\n",
       "      <td>구의2동</td>\n",
       "      <td>4.239143</td>\n",
       "      <td>17.286795</td>\n",
       "    </tr>\n",
       "    <tr>\n",
       "      <th>8</th>\n",
       "      <td>구의3동</td>\n",
       "      <td>4.537237</td>\n",
       "      <td>15.483322</td>\n",
       "    </tr>\n",
       "    <tr>\n",
       "      <th>9</th>\n",
       "      <td>광장동</td>\n",
       "      <td>5.025170</td>\n",
       "      <td>11.665886</td>\n",
       "    </tr>\n",
       "    <tr>\n",
       "      <th>10</th>\n",
       "      <td>자양1동</td>\n",
       "      <td>2.643857</td>\n",
       "      <td>16.562986</td>\n",
       "    </tr>\n",
       "    <tr>\n",
       "      <th>11</th>\n",
       "      <td>자양2동</td>\n",
       "      <td>4.259584</td>\n",
       "      <td>17.522760</td>\n",
       "    </tr>\n",
       "    <tr>\n",
       "      <th>12</th>\n",
       "      <td>자양3동</td>\n",
       "      <td>5.723515</td>\n",
       "      <td>16.212391</td>\n",
       "    </tr>\n",
       "    <tr>\n",
       "      <th>13</th>\n",
       "      <td>자양4동</td>\n",
       "      <td>2.839451</td>\n",
       "      <td>20.913757</td>\n",
       "    </tr>\n",
       "    <tr>\n",
       "      <th>14</th>\n",
       "      <td>화양동</td>\n",
       "      <td>1.058156</td>\n",
       "      <td>9.950079</td>\n",
       "    </tr>\n",
       "    <tr>\n",
       "      <th>15</th>\n",
       "      <td>군자동</td>\n",
       "      <td>2.831403</td>\n",
       "      <td>16.262548</td>\n",
       "    </tr>\n",
       "  </tbody>\n",
       "</table>\n",
       "</div>"
      ],
      "text/plain": [
       "     행정동   유아비율(%)    노인비율(%)\n",
       "1   중곡1동  3.137460  17.118766\n",
       "2   중곡2동  3.295395  16.238869\n",
       "3   중곡3동  3.267482  18.419567\n",
       "4   중곡4동  3.146067  19.300874\n",
       "5     능동  3.533095  14.919499\n",
       "6   구의1동  3.121392  14.161714\n",
       "7   구의2동  4.239143  17.286795\n",
       "8   구의3동  4.537237  15.483322\n",
       "9    광장동  5.025170  11.665886\n",
       "10  자양1동  2.643857  16.562986\n",
       "11  자양2동  4.259584  17.522760\n",
       "12  자양3동  5.723515  16.212391\n",
       "13  자양4동  2.839451  20.913757\n",
       "14   화양동  1.058156   9.950079\n",
       "15   군자동  2.831403  16.262548"
      ]
     },
     "execution_count": 3,
     "metadata": {},
     "output_type": "execute_result"
    }
   ],
   "source": [
    "ks = pd.read_csv('kids_silvers_rate.csv')\n",
    "ks.columns = ['행정동','유아(만0~7세)','노인(만65세이상)','총인구','유아비율(%)','노인비율(%)']\n",
    "ks = ks.loc[:,['행정동', '유아비율(%)', '노인비율(%)']]\n",
    "ks = ks.iloc[1:,:]\n",
    "ks['행정동'] = ['중곡1동', '중곡2동', '중곡3동', '중곡4동', '능동', '구의1동', '구의2동', '구의3동', '광장동', \n",
    "            '자양1동', '자양2동', '자양3동', '자양4동', '화양동', '군자동']\n",
    "ks"
   ]
  },
  {
   "cell_type": "code",
   "execution_count": 4,
   "id": "dceb0ab8",
   "metadata": {},
   "outputs": [],
   "source": [
    "grid = pd.merge(grid, ks, how='outer')\n",
    "grid_silver = grid.loc[:,['노인비율(%)','격자 당 경로당 수']]\n",
    "grid_kid = grid.loc[:,['유아비율(%)','격자 당 어린이 보육시설 수']]"
   ]
  },
  {
   "attachments": {},
   "cell_type": "markdown",
   "id": "b35273b1",
   "metadata": {},
   "source": [
    "## scatter plot"
   ]
  },
  {
   "cell_type": "code",
   "execution_count": 5,
   "id": "2b19207e",
   "metadata": {},
   "outputs": [
    {
     "data": {
      "text/plain": [
       "<matplotlib.collections.PathCollection at 0x24fd0090d30>"
      ]
     },
     "execution_count": 5,
     "metadata": {},
     "output_type": "execute_result"
    },
    {
     "data": {
      "image/png": "[encoded data removed]",
      "text/plain": [
       "<Figure size 640x480 with 1 Axes>"
      ]
     },
     "metadata": {},
     "output_type": "display_data"
    }
   ],
   "source": [
    "plt.scatter(grid_silver['노인비율(%)'], grid_silver['격자 당 경로당 수'])"
   ]
  },
  {
   "cell_type": "code",
   "execution_count": 6,
   "id": "fbf56282",
   "metadata": {},
   "outputs": [
    {
     "data": {
      "text/plain": [
       "<matplotlib.collections.PathCollection at 0x24fd015ac50>"
      ]
     },
     "execution_count": 6,
     "metadata": {},
     "output_type": "execute_result"
    },
    {
     "data": {
      "image/png": "[encoded data removed]",
      "text/plain": [
       "<Figure size 640x480 with 1 Axes>"
      ]
     },
     "metadata": {},
     "output_type": "display_data"
    }
   ],
   "source": [
    "plt.scatter(grid_kid['유아비율(%)'], grid_kid['격자 당 어린이 보육시설 수'])"
   ]
  },
  {
   "cell_type": "code",
   "execution_count": 7,
   "id": "be5c8187",
   "metadata": {},
   "outputs": [],
   "source": [
    "clustering_df = pd.concat([grid_silver, grid_kid], axis=1)"
   ]
  },
  {
   "cell_type": "code",
   "execution_count": 8,
   "id": "f3bf7b0c",
   "metadata": {},
   "outputs": [
    {
     "data": {
      "text/html": [
       "<div>\n",
       "<style scoped>\n",
       "    .dataframe tbody tr th:only-of-type {\n",
       "        vertical-align: middle;\n",
       "    }\n",
       "\n",
       "    .dataframe tbody tr th {\n",
       "        vertical-align: top;\n",
       "    }\n",
       "\n",
       "    .dataframe thead th {\n",
       "        text-align: right;\n",
       "    }\n",
       "</style>\n",
       "<table border=\"1\" class=\"dataframe\">\n",
       "  <thead>\n",
       "    <tr style=\"text-align: right;\">\n",
       "      <th></th>\n",
       "      <th>노인비율(%)</th>\n",
       "      <th>격자 당 경로당 수</th>\n",
       "      <th>유아비율(%)</th>\n",
       "      <th>격자 당 어린이 보육시설 수</th>\n",
       "    </tr>\n",
       "  </thead>\n",
       "  <tbody>\n",
       "    <tr>\n",
       "      <th>0</th>\n",
       "      <td>20.913757</td>\n",
       "      <td>0</td>\n",
       "      <td>2.839451</td>\n",
       "      <td>0</td>\n",
       "    </tr>\n",
       "    <tr>\n",
       "      <th>1</th>\n",
       "      <td>20.913757</td>\n",
       "      <td>0</td>\n",
       "      <td>2.839451</td>\n",
       "      <td>0</td>\n",
       "    </tr>\n",
       "    <tr>\n",
       "      <th>2</th>\n",
       "      <td>20.913757</td>\n",
       "      <td>0</td>\n",
       "      <td>2.839451</td>\n",
       "      <td>0</td>\n",
       "    </tr>\n",
       "    <tr>\n",
       "      <th>3</th>\n",
       "      <td>20.913757</td>\n",
       "      <td>0</td>\n",
       "      <td>2.839451</td>\n",
       "      <td>0</td>\n",
       "    </tr>\n",
       "    <tr>\n",
       "      <th>4</th>\n",
       "      <td>20.913757</td>\n",
       "      <td>0</td>\n",
       "      <td>2.839451</td>\n",
       "      <td>0</td>\n",
       "    </tr>\n",
       "    <tr>\n",
       "      <th>...</th>\n",
       "      <td>...</td>\n",
       "      <td>...</td>\n",
       "      <td>...</td>\n",
       "      <td>...</td>\n",
       "    </tr>\n",
       "    <tr>\n",
       "      <th>478</th>\n",
       "      <td>11.665886</td>\n",
       "      <td>0</td>\n",
       "      <td>5.025170</td>\n",
       "      <td>0</td>\n",
       "    </tr>\n",
       "    <tr>\n",
       "      <th>479</th>\n",
       "      <td>11.665886</td>\n",
       "      <td>0</td>\n",
       "      <td>5.025170</td>\n",
       "      <td>0</td>\n",
       "    </tr>\n",
       "    <tr>\n",
       "      <th>480</th>\n",
       "      <td>11.665886</td>\n",
       "      <td>0</td>\n",
       "      <td>5.025170</td>\n",
       "      <td>0</td>\n",
       "    </tr>\n",
       "    <tr>\n",
       "      <th>481</th>\n",
       "      <td>11.665886</td>\n",
       "      <td>0</td>\n",
       "      <td>5.025170</td>\n",
       "      <td>0</td>\n",
       "    </tr>\n",
       "    <tr>\n",
       "      <th>482</th>\n",
       "      <td>11.665886</td>\n",
       "      <td>0</td>\n",
       "      <td>5.025170</td>\n",
       "      <td>0</td>\n",
       "    </tr>\n",
       "  </tbody>\n",
       "</table>\n",
       "<p>483 rows × 4 columns</p>\n",
       "</div>"
      ],
      "text/plain": [
       "       노인비율(%)  격자 당 경로당 수   유아비율(%)  격자 당 어린이 보육시설 수\n",
       "0    20.913757           0  2.839451                0\n",
       "1    20.913757           0  2.839451                0\n",
       "2    20.913757           0  2.839451                0\n",
       "3    20.913757           0  2.839451                0\n",
       "4    20.913757           0  2.839451                0\n",
       "..         ...         ...       ...              ...\n",
       "478  11.665886           0  5.025170                0\n",
       "479  11.665886           0  5.025170                0\n",
       "480  11.665886           0  5.025170                0\n",
       "481  11.665886           0  5.025170                0\n",
       "482  11.665886           0  5.025170                0\n",
       "\n",
       "[483 rows x 4 columns]"
      ]
     },
     "execution_count": 8,
     "metadata": {},
     "output_type": "execute_result"
    }
   ],
   "source": [
    "clustering_df"
   ]
  },
  {
   "attachments": {},
   "cell_type": "markdown",
   "id": "70e2cf21",
   "metadata": {},
   "source": [
    "## 히트맵 상관관계 분석"
   ]
  },
  {
   "cell_type": "code",
   "execution_count": 9,
   "id": "838bd3d9",
   "metadata": {
    "scrolled": false
   },
   "outputs": [
    {
     "data": {
      "text/plain": [
       "<Axes: >"
      ]
     },
     "execution_count": 9,
     "metadata": {},
     "output_type": "execute_result"
    },
    {
     "data": {
      "image/png": "[encoded data removed]",
      "text/plain": [
       "<Figure size 500x500 with 2 Axes>"
      ]
     },
     "metadata": {},
     "output_type": "display_data"
    }
   ],
   "source": [
    "import seaborn as sns\n",
    "import matplotlib.pyplot as plt\n",
    "%matplotlib inline\n",
    "clustering_df.columns = ['노인비율(%)', '셀 당 복지시설', '유아비율(%)', '셀 당 보육시설']\n",
    "corr = clustering_df.corr()\n",
    "plt.figure(figsize=(5,5))\n",
    "plt.rc('font',family='Malgun Gothic', size=8)\n",
    "sns.heatmap(corr, annot=True, annot_kws={\"size\": 12})"
   ]
  },
  {
   "cell_type": "code",
   "execution_count": 10,
   "id": "5a698dd8",
   "metadata": {
    "scrolled": true
   },
   "outputs": [
    {
     "data": {
      "text/plain": [
       "<Axes: >"
      ]
     },
     "execution_count": 10,
     "metadata": {},
     "output_type": "execute_result"
    },
    {
     "data": {
      "image/png": "[encoded data removed]",
      "text/plain": [
       "<Figure size 500x500 with 2 Axes>"
      ]
     },
     "metadata": {},
     "output_type": "display_data"
    }
   ],
   "source": [
    "import seaborn as sns\n",
    "import matplotlib.pyplot as plt\n",
    "%matplotlib inline\n",
    "\n",
    "corr = grid_kid.corr()\n",
    "plt.figure(figsize=(5,5))\n",
    "sns.heatmap(corr, annot=True)"
   ]
  },
  {
   "cell_type": "code",
   "execution_count": 11,
   "id": "c095ca99",
   "metadata": {},
   "outputs": [
    {
     "data": {
      "text/html": [
       "<div>\n",
       "<style scoped>\n",
       "    .dataframe tbody tr th:only-of-type {\n",
       "        vertical-align: middle;\n",
       "    }\n",
       "\n",
       "    .dataframe tbody tr th {\n",
       "        vertical-align: top;\n",
       "    }\n",
       "\n",
       "    .dataframe thead th {\n",
       "        text-align: right;\n",
       "    }\n",
       "</style>\n",
       "<table border=\"1\" class=\"dataframe\">\n",
       "  <thead>\n",
       "    <tr style=\"text-align: right;\">\n",
       "      <th></th>\n",
       "      <th>유아비율(%)</th>\n",
       "      <th>격자 당 어린이 보육시설 수</th>\n",
       "    </tr>\n",
       "  </thead>\n",
       "  <tbody>\n",
       "    <tr>\n",
       "      <th>0</th>\n",
       "      <td>2.839451</td>\n",
       "      <td>0</td>\n",
       "    </tr>\n",
       "    <tr>\n",
       "      <th>1</th>\n",
       "      <td>2.839451</td>\n",
       "      <td>0</td>\n",
       "    </tr>\n",
       "    <tr>\n",
       "      <th>2</th>\n",
       "      <td>2.839451</td>\n",
       "      <td>0</td>\n",
       "    </tr>\n",
       "    <tr>\n",
       "      <th>3</th>\n",
       "      <td>2.839451</td>\n",
       "      <td>0</td>\n",
       "    </tr>\n",
       "    <tr>\n",
       "      <th>4</th>\n",
       "      <td>2.839451</td>\n",
       "      <td>0</td>\n",
       "    </tr>\n",
       "    <tr>\n",
       "      <th>...</th>\n",
       "      <td>...</td>\n",
       "      <td>...</td>\n",
       "    </tr>\n",
       "    <tr>\n",
       "      <th>478</th>\n",
       "      <td>5.025170</td>\n",
       "      <td>0</td>\n",
       "    </tr>\n",
       "    <tr>\n",
       "      <th>479</th>\n",
       "      <td>5.025170</td>\n",
       "      <td>0</td>\n",
       "    </tr>\n",
       "    <tr>\n",
       "      <th>480</th>\n",
       "      <td>5.025170</td>\n",
       "      <td>0</td>\n",
       "    </tr>\n",
       "    <tr>\n",
       "      <th>481</th>\n",
       "      <td>5.025170</td>\n",
       "      <td>0</td>\n",
       "    </tr>\n",
       "    <tr>\n",
       "      <th>482</th>\n",
       "      <td>5.025170</td>\n",
       "      <td>0</td>\n",
       "    </tr>\n",
       "  </tbody>\n",
       "</table>\n",
       "<p>483 rows × 2 columns</p>\n",
       "</div>"
      ],
      "text/plain": [
       "      유아비율(%)  격자 당 어린이 보육시설 수\n",
       "0    2.839451                0\n",
       "1    2.839451                0\n",
       "2    2.839451                0\n",
       "3    2.839451                0\n",
       "4    2.839451                0\n",
       "..        ...              ...\n",
       "478  5.025170                0\n",
       "479  5.025170                0\n",
       "480  5.025170                0\n",
       "481  5.025170                0\n",
       "482  5.025170                0\n",
       "\n",
       "[483 rows x 2 columns]"
      ]
     },
     "execution_count": 11,
     "metadata": {},
     "output_type": "execute_result"
    }
   ],
   "source": [
    "grid_kid"
   ]
  },
  {
   "attachments": {},
   "cell_type": "markdown",
   "id": "e9b333af",
   "metadata": {},
   "source": [
    "## standard scaler 정규화"
   ]
  },
  {
   "cell_type": "code",
   "execution_count": 12,
   "id": "399679af",
   "metadata": {},
   "outputs": [],
   "source": [
    "from sklearn.preprocessing import StandardScaler\n",
    "\n",
    "# Target 값을 제외한 모든 속성 값을 StandardScaler를 이용하여 표준 정규 분포를 가지는 값들로 변환\n",
    "grid_silver_scaled = StandardScaler().fit_transform(grid_silver)\n",
    "grid_kid_scaled = StandardScaler().fit_transform(grid_kid)"
   ]
  },
  {
   "cell_type": "code",
   "execution_count": 13,
   "id": "62cf9b22",
   "metadata": {},
   "outputs": [],
   "source": [
    "grid_silver['노인비율(%)'] = grid_silver_scaled[:,0]\n",
    "grid_silver['격자 당 경로당 수'] = grid_silver_scaled[:,1]\n",
    "grid_kid['유아비율(%)'] = grid_kid_scaled[:,0]\n",
    "grid_kid['격자 당 어린이 보육시설 수'] = grid_kid_scaled[:,1]"
   ]
  },
  {
   "attachments": {},
   "cell_type": "markdown",
   "id": "5589267a",
   "metadata": {},
   "source": [
    "## PCA(사용하지 않음)"
   ]
  },
  {
   "cell_type": "code",
   "execution_count": 14,
   "id": "7b30b728",
   "metadata": {},
   "outputs": [],
   "source": [
    "# from sklearn.decomposition import PCA\n",
    "\n",
    "# pca = PCA(n_components=1)\n",
    "\n",
    "# #fit( )과 transform( ) 을 호출하여 PCA 변환 데이터 반환\n",
    "# pca.fit(grid_silver_scaled)\n",
    "# grid_silver_pca = pca.transform(grid_silver_scaled)\n",
    "# print(grid_silver_pca.shape)"
   ]
  },
  {
   "cell_type": "code",
   "execution_count": 15,
   "id": "f29863a4",
   "metadata": {},
   "outputs": [],
   "source": [
    "# # PCA 환된 데이터의 컬럼명을 각각 pca_component_1, pca_component_2로 명명\n",
    "# pca_columns=['pca1']\n",
    "# grid_silverDF_pca = pd.DataFrame(grid_silver_pca, columns=pca_columns)\n",
    "# grid_silverDF_pca"
   ]
  },
  {
   "cell_type": "code",
   "execution_count": 16,
   "id": "7919818f",
   "metadata": {},
   "outputs": [],
   "source": [
    "# print(pca.explained_variance_ratio_)"
   ]
  },
  {
   "cell_type": "code",
   "execution_count": 17,
   "id": "67030012",
   "metadata": {},
   "outputs": [],
   "source": [
    "# from sklearn.decomposition import PCA\n",
    "\n",
    "# pca = PCA(n_components=1)\n",
    "\n",
    "# #fit( )과 transform( ) 을 호출하여 PCA 변환 데이터 반환\n",
    "# pca.fit(grid_kid_scaled)\n",
    "# grid_kid_pca = pca.transform(grid_kid_scaled)\n",
    "# print(grid_kid_pca.shape)"
   ]
  },
  {
   "cell_type": "code",
   "execution_count": 18,
   "id": "cdd6af5d",
   "metadata": {},
   "outputs": [],
   "source": [
    "# # PCA 환된 데이터의 컬럼명을 각각 pca_component_1, pca_component_2로 명명\n",
    "# pca_columns=['pca1']\n",
    "# grid_kidDF_pca = pd.DataFrame(grid_kid_pca, columns=pca_columns)\n",
    "# grid_kidDF_pca"
   ]
  },
  {
   "cell_type": "code",
   "execution_count": 19,
   "id": "51c5a852",
   "metadata": {},
   "outputs": [],
   "source": [
    "# print(pca.explained_variance_ratio_)"
   ]
  },
  {
   "attachments": {},
   "cell_type": "markdown",
   "id": "3161ed7e",
   "metadata": {},
   "source": [
    "## K-means clustering"
   ]
  },
  {
   "cell_type": "code",
   "execution_count": 20,
   "id": "30115d60",
   "metadata": {},
   "outputs": [],
   "source": [
    "from sklearn.cluster import KMeans\n",
    "import numpy as np\n",
    "import pandas as pd"
   ]
  },
  {
   "cell_type": "code",
   "execution_count": 21,
   "id": "ebdbe5bd",
   "metadata": {},
   "outputs": [
    {
     "data": {
      "text/html": [
       "<div>\n",
       "<style scoped>\n",
       "    .dataframe tbody tr th:only-of-type {\n",
       "        vertical-align: middle;\n",
       "    }\n",
       "\n",
       "    .dataframe tbody tr th {\n",
       "        vertical-align: top;\n",
       "    }\n",
       "\n",
       "    .dataframe thead th {\n",
       "        text-align: right;\n",
       "    }\n",
       "</style>\n",
       "<table border=\"1\" class=\"dataframe\">\n",
       "  <thead>\n",
       "    <tr style=\"text-align: right;\">\n",
       "      <th></th>\n",
       "      <th>노인비율(%)</th>\n",
       "      <th>격자 당 경로당 수</th>\n",
       "      <th>유아비율(%)</th>\n",
       "      <th>격자 당 어린이 보육시설 수</th>\n",
       "    </tr>\n",
       "  </thead>\n",
       "  <tbody>\n",
       "    <tr>\n",
       "      <th>0</th>\n",
       "      <td>1.573096</td>\n",
       "      <td>-0.263779</td>\n",
       "      <td>-0.765451</td>\n",
       "      <td>-0.549261</td>\n",
       "    </tr>\n",
       "    <tr>\n",
       "      <th>1</th>\n",
       "      <td>1.573096</td>\n",
       "      <td>-0.263779</td>\n",
       "      <td>-0.765451</td>\n",
       "      <td>-0.549261</td>\n",
       "    </tr>\n",
       "    <tr>\n",
       "      <th>2</th>\n",
       "      <td>1.573096</td>\n",
       "      <td>-0.263779</td>\n",
       "      <td>-0.765451</td>\n",
       "      <td>-0.549261</td>\n",
       "    </tr>\n",
       "    <tr>\n",
       "      <th>3</th>\n",
       "      <td>1.573096</td>\n",
       "      <td>-0.263779</td>\n",
       "      <td>-0.765451</td>\n",
       "      <td>-0.549261</td>\n",
       "    </tr>\n",
       "    <tr>\n",
       "      <th>4</th>\n",
       "      <td>1.573096</td>\n",
       "      <td>-0.263779</td>\n",
       "      <td>-0.765451</td>\n",
       "      <td>-0.549261</td>\n",
       "    </tr>\n",
       "    <tr>\n",
       "      <th>...</th>\n",
       "      <td>...</td>\n",
       "      <td>...</td>\n",
       "      <td>...</td>\n",
       "      <td>...</td>\n",
       "    </tr>\n",
       "    <tr>\n",
       "      <th>478</th>\n",
       "      <td>-1.416842</td>\n",
       "      <td>-0.263779</td>\n",
       "      <td>1.144370</td>\n",
       "      <td>-0.549261</td>\n",
       "    </tr>\n",
       "    <tr>\n",
       "      <th>479</th>\n",
       "      <td>-1.416842</td>\n",
       "      <td>-0.263779</td>\n",
       "      <td>1.144370</td>\n",
       "      <td>-0.549261</td>\n",
       "    </tr>\n",
       "    <tr>\n",
       "      <th>480</th>\n",
       "      <td>-1.416842</td>\n",
       "      <td>-0.263779</td>\n",
       "      <td>1.144370</td>\n",
       "      <td>-0.549261</td>\n",
       "    </tr>\n",
       "    <tr>\n",
       "      <th>481</th>\n",
       "      <td>-1.416842</td>\n",
       "      <td>-0.263779</td>\n",
       "      <td>1.144370</td>\n",
       "      <td>-0.549261</td>\n",
       "    </tr>\n",
       "    <tr>\n",
       "      <th>482</th>\n",
       "      <td>-1.416842</td>\n",
       "      <td>-0.263779</td>\n",
       "      <td>1.144370</td>\n",
       "      <td>-0.549261</td>\n",
       "    </tr>\n",
       "  </tbody>\n",
       "</table>\n",
       "<p>483 rows × 4 columns</p>\n",
       "</div>"
      ],
      "text/plain": [
       "      노인비율(%)  격자 당 경로당 수   유아비율(%)  격자 당 어린이 보육시설 수\n",
       "0    1.573096   -0.263779 -0.765451        -0.549261\n",
       "1    1.573096   -0.263779 -0.765451        -0.549261\n",
       "2    1.573096   -0.263779 -0.765451        -0.549261\n",
       "3    1.573096   -0.263779 -0.765451        -0.549261\n",
       "4    1.573096   -0.263779 -0.765451        -0.549261\n",
       "..        ...         ...       ...              ...\n",
       "478 -1.416842   -0.263779  1.144370        -0.549261\n",
       "479 -1.416842   -0.263779  1.144370        -0.549261\n",
       "480 -1.416842   -0.263779  1.144370        -0.549261\n",
       "481 -1.416842   -0.263779  1.144370        -0.549261\n",
       "482 -1.416842   -0.263779  1.144370        -0.549261\n",
       "\n",
       "[483 rows x 4 columns]"
      ]
     },
     "execution_count": 21,
     "metadata": {},
     "output_type": "execute_result"
    }
   ],
   "source": [
    "clustering_df = pd.concat([grid_silver, grid_kid], axis=1)\n",
    "clustering_df"
   ]
  },
  {
   "cell_type": "code",
   "execution_count": 22,
   "id": "0e2accfc",
   "metadata": {},
   "outputs": [],
   "source": [
    "### 여러개의 클러스터링 갯수를 List로 입력 받아 각각의 실루엣 계수를 면적으로 시각화한 함수 작성\n",
    "def visualize_silhouette(cluster_lists, clustering_df): \n",
    "    X_features = clustering_df.copy()\n",
    "    from sklearn.datasets import make_blobs\n",
    "    from sklearn.cluster import KMeans\n",
    "    from sklearn.metrics import silhouette_samples, silhouette_score\n",
    "\n",
    "    import matplotlib.pyplot as plt\n",
    "    import matplotlib.cm as cm\n",
    "    import math\n",
    "    # 입력값으로 클러스터링 갯수들을 리스트로 받아서, 각 갯수별로 클러스터링을 적용하고 실루엣 개수를 구함\n",
    "    n_cols = len(cluster_lists)\n",
    "    # plt.subplots()으로 리스트에 기재된 클러스터링 수만큼의 sub figures를 가지는 axs 생성 \n",
    "    fig, axs = plt.subplots(figsize=(4*n_cols, 4), nrows=1, ncols=n_cols)\n",
    "    \n",
    "    # 리스트에 기재된 클러스터링 갯수들을 차례로 iteration 수행하면서 실루엣 개수 시각화\n",
    "    for ind, n_cluster in enumerate(cluster_lists):\n",
    "        \n",
    "        # KMeans 클러스터링 수행하고, 실루엣 스코어와 개별 데이터의 실루엣 값 계산. \n",
    "        clusterer = KMeans(n_clusters = n_cluster, max_iter=500, random_state=4)\n",
    "        cluster_labels = clusterer.fit_predict(X_features)\n",
    "        \n",
    "        sil_avg = silhouette_score(X_features, cluster_labels)\n",
    "        sil_values = silhouette_samples(X_features, cluster_labels)\n",
    "        X_features['label'] = cluster_labels\n",
    "        X_features['silhouette_coeff'] = sil_values\n",
    "        gb = X_features.groupby('label')['silhouette_coeff'].mean()\n",
    "        print(gb)\n",
    "        val = np.var(gb)\n",
    "        print('val: ',val)\n",
    "        y_lower = 10\n",
    "        axs[ind].set_title('Number of Cluster : '+ str(n_cluster)+'\\n' \\\n",
    "                          'Silhouette Score :' + str(round(sil_avg,3)) )\n",
    "        axs[ind].set_xlabel(\"The silhouette coefficient values\")\n",
    "        axs[ind].set_ylabel(\"Cluster label\")\n",
    "        axs[ind].set_xlim([-0.1, 1])\n",
    "        axs[ind].set_ylim([0, len(X_features) + (n_cluster + 1) * 10])\n",
    "        axs[ind].set_yticks([])  # Clear the yaxis labels / ticks\n",
    "        axs[ind].set_xticks([0, 0.2, 0.4, 0.6, 0.8, 1])\n",
    "        \n",
    "        # 클러스터링 갯수별로 fill_betweenx( )형태의 막대 그래프 표현. \n",
    "        for i in range(n_cluster):\n",
    "            ith_cluster_sil_values = sil_values[cluster_labels==i]\n",
    "            ith_cluster_sil_values.sort()\n",
    "            \n",
    "            size_cluster_i = ith_cluster_sil_values.shape[0]\n",
    "            y_upper = y_lower + size_cluster_i\n",
    "            \n",
    "            color = cm.nipy_spectral(float(i) / n_cluster)\n",
    "            axs[ind].fill_betweenx(np.arange(y_lower, y_upper), 0, ith_cluster_sil_values, \\\n",
    "                                facecolor=color, edgecolor=color, alpha=0.7)\n",
    "            axs[ind].text(-0.05, y_lower + 0.5 * size_cluster_i, str(i))\n",
    "            y_lower = y_upper + 10\n",
    "            \n",
    "        axs[ind].axvline(x=sil_avg, color=\"red\", linestyle=\"--\")"
   ]
  },
  {
   "cell_type": "code",
   "execution_count": 23,
   "id": "4f796da5",
   "metadata": {
    "scrolled": true
   },
   "outputs": [
    {
     "name": "stderr",
     "output_type": "stream",
     "text": [
      "c:\\Users\\bbcc6\\AppData\\Local\\Programs\\Python\\Python310\\lib\\site-packages\\sklearn\\cluster\\_kmeans.py:870: FutureWarning: The default value of `n_init` will change from 10 to 'auto' in 1.4. Set the value of `n_init` explicitly to suppress the warning\n",
      "  warnings.warn(\n",
      "c:\\Users\\bbcc6\\AppData\\Local\\Programs\\Python\\Python310\\lib\\site-packages\\sklearn\\cluster\\_kmeans.py:870: FutureWarning: The default value of `n_init` will change from 10 to 'auto' in 1.4. Set the value of `n_init` explicitly to suppress the warning\n",
      "  warnings.warn(\n",
      "c:\\Users\\bbcc6\\AppData\\Local\\Programs\\Python\\Python310\\lib\\site-packages\\sklearn\\cluster\\_kmeans.py:870: FutureWarning: The default value of `n_init` will change from 10 to 'auto' in 1.4. Set the value of `n_init` explicitly to suppress the warning\n",
      "  warnings.warn(\n"
     ]
    },
    {
     "name": "stdout",
     "output_type": "stream",
     "text": [
      "label\n",
      "0    0.081841\n",
      "1    0.426510\n",
      "2    0.301154\n",
      "Name: silhouette_coeff, dtype: float64\n",
      "val:  0.020289853358489235\n",
      "label\n",
      "0    0.424976\n",
      "1    0.706908\n",
      "2    0.524130\n",
      "3    0.196113\n",
      "Name: silhouette_coeff, dtype: float64\n",
      "val:  0.03397562701821661\n",
      "label\n",
      "0    0.553938\n",
      "1    0.602737\n",
      "2    0.200752\n",
      "3    0.734404\n",
      "4    0.285950\n",
      "Name: silhouette_coeff, dtype: float64\n",
      "val:  0.04015776227610681\n",
      "label\n",
      "0    0.471473\n",
      "1    0.473536\n",
      "2    0.451114\n",
      "3    0.749962\n",
      "4    0.830782\n",
      "5    0.261049\n",
      "Name: silhouette_coeff, dtype: float64\n",
      "val:  0.03724421613156453\n"
     ]
    },
    {
     "name": "stderr",
     "output_type": "stream",
     "text": [
      "c:\\Users\\bbcc6\\AppData\\Local\\Programs\\Python\\Python310\\lib\\site-packages\\sklearn\\cluster\\_kmeans.py:870: FutureWarning: The default value of `n_init` will change from 10 to 'auto' in 1.4. Set the value of `n_init` explicitly to suppress the warning\n",
      "  warnings.warn(\n"
     ]
    },
    {
     "data": {
      "image/png": "[encoded data removed]",
      "text/plain": [
       "<Figure size 1600x400 with 4 Axes>"
      ]
     },
     "metadata": {},
     "output_type": "display_data"
    }
   ],
   "source": [
    "# cluster 개수를 2개, 3개, 4개, 5개 일때의 클러스터별 실루엣 계수 평균값을 시각화 \n",
    "visualize_silhouette([3, 4, 5, 6], clustering_df)"
   ]
  },
  {
   "cell_type": "code",
   "execution_count": 24,
   "id": "60e12cc7",
   "metadata": {},
   "outputs": [
    {
     "data": {
      "text/html": [
       "<div>\n",
       "<style scoped>\n",
       "    .dataframe tbody tr th:only-of-type {\n",
       "        vertical-align: middle;\n",
       "    }\n",
       "\n",
       "    .dataframe tbody tr th {\n",
       "        vertical-align: top;\n",
       "    }\n",
       "\n",
       "    .dataframe thead th {\n",
       "        text-align: right;\n",
       "    }\n",
       "</style>\n",
       "<table border=\"1\" class=\"dataframe\">\n",
       "  <thead>\n",
       "    <tr style=\"text-align: right;\">\n",
       "      <th></th>\n",
       "      <th>노인비율(%)</th>\n",
       "      <th>격자 당 경로당 수</th>\n",
       "      <th>유아비율(%)</th>\n",
       "      <th>격자 당 어린이 보육시설 수</th>\n",
       "    </tr>\n",
       "  </thead>\n",
       "  <tbody>\n",
       "    <tr>\n",
       "      <th>0</th>\n",
       "      <td>1.573096</td>\n",
       "      <td>-0.263779</td>\n",
       "      <td>-0.765451</td>\n",
       "      <td>-0.549261</td>\n",
       "    </tr>\n",
       "    <tr>\n",
       "      <th>1</th>\n",
       "      <td>1.573096</td>\n",
       "      <td>-0.263779</td>\n",
       "      <td>-0.765451</td>\n",
       "      <td>-0.549261</td>\n",
       "    </tr>\n",
       "    <tr>\n",
       "      <th>2</th>\n",
       "      <td>1.573096</td>\n",
       "      <td>-0.263779</td>\n",
       "      <td>-0.765451</td>\n",
       "      <td>-0.549261</td>\n",
       "    </tr>\n",
       "    <tr>\n",
       "      <th>3</th>\n",
       "      <td>1.573096</td>\n",
       "      <td>-0.263779</td>\n",
       "      <td>-0.765451</td>\n",
       "      <td>-0.549261</td>\n",
       "    </tr>\n",
       "    <tr>\n",
       "      <th>4</th>\n",
       "      <td>1.573096</td>\n",
       "      <td>-0.263779</td>\n",
       "      <td>-0.765451</td>\n",
       "      <td>-0.549261</td>\n",
       "    </tr>\n",
       "    <tr>\n",
       "      <th>...</th>\n",
       "      <td>...</td>\n",
       "      <td>...</td>\n",
       "      <td>...</td>\n",
       "      <td>...</td>\n",
       "    </tr>\n",
       "    <tr>\n",
       "      <th>478</th>\n",
       "      <td>-1.416842</td>\n",
       "      <td>-0.263779</td>\n",
       "      <td>1.144370</td>\n",
       "      <td>-0.549261</td>\n",
       "    </tr>\n",
       "    <tr>\n",
       "      <th>479</th>\n",
       "      <td>-1.416842</td>\n",
       "      <td>-0.263779</td>\n",
       "      <td>1.144370</td>\n",
       "      <td>-0.549261</td>\n",
       "    </tr>\n",
       "    <tr>\n",
       "      <th>480</th>\n",
       "      <td>-1.416842</td>\n",
       "      <td>-0.263779</td>\n",
       "      <td>1.144370</td>\n",
       "      <td>-0.549261</td>\n",
       "    </tr>\n",
       "    <tr>\n",
       "      <th>481</th>\n",
       "      <td>-1.416842</td>\n",
       "      <td>-0.263779</td>\n",
       "      <td>1.144370</td>\n",
       "      <td>-0.549261</td>\n",
       "    </tr>\n",
       "    <tr>\n",
       "      <th>482</th>\n",
       "      <td>-1.416842</td>\n",
       "      <td>-0.263779</td>\n",
       "      <td>1.144370</td>\n",
       "      <td>-0.549261</td>\n",
       "    </tr>\n",
       "  </tbody>\n",
       "</table>\n",
       "<p>483 rows × 4 columns</p>\n",
       "</div>"
      ],
      "text/plain": [
       "      노인비율(%)  격자 당 경로당 수   유아비율(%)  격자 당 어린이 보육시설 수\n",
       "0    1.573096   -0.263779 -0.765451        -0.549261\n",
       "1    1.573096   -0.263779 -0.765451        -0.549261\n",
       "2    1.573096   -0.263779 -0.765451        -0.549261\n",
       "3    1.573096   -0.263779 -0.765451        -0.549261\n",
       "4    1.573096   -0.263779 -0.765451        -0.549261\n",
       "..        ...         ...       ...              ...\n",
       "478 -1.416842   -0.263779  1.144370        -0.549261\n",
       "479 -1.416842   -0.263779  1.144370        -0.549261\n",
       "480 -1.416842   -0.263779  1.144370        -0.549261\n",
       "481 -1.416842   -0.263779  1.144370        -0.549261\n",
       "482 -1.416842   -0.263779  1.144370        -0.549261\n",
       "\n",
       "[483 rows x 4 columns]"
      ]
     },
     "execution_count": 24,
     "metadata": {},
     "output_type": "execute_result"
    }
   ],
   "source": [
    "cdf_cpy = clustering_df.copy()\n",
    "clustering_df"
   ]
  },
  {
   "cell_type": "code",
   "execution_count": 25,
   "id": "4c96e0c0",
   "metadata": {},
   "outputs": [
    {
     "name": "stderr",
     "output_type": "stream",
     "text": [
      "c:\\Users\\bbcc6\\AppData\\Local\\Programs\\Python\\Python310\\lib\\site-packages\\sklearn\\cluster\\_kmeans.py:870: FutureWarning: The default value of `n_init` will change from 10 to 'auto' in 1.4. Set the value of `n_init` explicitly to suppress the warning\n",
      "  warnings.warn(\n"
     ]
    }
   ],
   "source": [
    "kmeans = KMeans(n_clusters=5, init='k-means++', max_iter=200, random_state=0)\n",
    "cluster_labels = kmeans.fit_predict(clustering_df)\n",
    "cdf_cpy['kmeans_label']  = cluster_labels\n",
    "#cluster_centers_ 는 개별 클러스터의 중심 위치 좌표 시각화를 위해 추출\n",
    "centers = kmeans.cluster_centers_\n",
    "unique_labels = np.unique(cluster_labels)\n",
    "markers=['o', 's', '^', 'P','D','H','x']"
   ]
  },
  {
   "cell_type": "code",
   "execution_count": 26,
   "id": "b7258453",
   "metadata": {},
   "outputs": [
    {
     "name": "stderr",
     "output_type": "stream",
     "text": [
      "C:\\Users\\bbcc6\\AppData\\Roaming\\Python\\Python310\\site-packages\\IPython\\core\\pylabtools.py:151: UserWarning: Glyph 8722 (\\N{MINUS SIGN}) missing from current font.\n",
      "  fig.canvas.print_figure(bytes_io, **kw)\n"
     ]
    },
    {
     "name": "stdout",
     "output_type": "stream",
     "text": [
      "0 cluster 265\n",
      "1 cluster 13\n",
      "2 cluster 55\n",
      "3 cluster 117\n",
      "4 cluster 33\n"
     ]
    },
    {
     "data": {
      "image/png": "[encoded data removed]",
      "text/plain": [
       "<Figure size 640x480 with 1 Axes>"
      ]
     },
     "metadata": {},
     "output_type": "display_data"
    }
   ],
   "source": [
    "# 군집된 label 유형별로 iteration 하면서 marker 별로 scatter plot 수행. \n",
    "for label in unique_labels:\n",
    "    label_cluster = cdf_cpy[cdf_cpy['kmeans_label']==label]\n",
    "    center_x_y = centers[label]\n",
    "    plt.scatter(x=label_cluster['노인비율(%)'], y=label_cluster['격자 당 경로당 수'], edgecolor='k', \n",
    "                marker=markers[label] )\n",
    "    \n",
    "    # 군집별 중심 위치 좌표 시각화 \n",
    "    plt.scatter(x=center_x_y[0], y=center_x_y[1], s=200, color='white',\n",
    "                alpha=0.9, edgecolor='k', marker=markers[label])\n",
    "    plt.scatter(x=center_x_y[0], y=center_x_y[1], s=70, color='k', edgecolor='k', \n",
    "                marker='$%d$' % label)\n",
    "    print(label,'cluster',label_cluster.shape[0])\n",
    "\n",
    "plt.show()"
   ]
  },
  {
   "cell_type": "code",
   "execution_count": 27,
   "id": "4bb3198b",
   "metadata": {},
   "outputs": [
    {
     "name": "stdout",
     "output_type": "stream",
     "text": [
      "0 cluster 265\n",
      "1 cluster 13\n",
      "2 cluster 55\n",
      "3 cluster 117\n",
      "4 cluster 33\n"
     ]
    },
    {
     "data": {
      "image/png": "[encoded data removed]",
      "text/plain": [
       "<Figure size 640x480 with 1 Axes>"
      ]
     },
     "metadata": {},
     "output_type": "display_data"
    }
   ],
   "source": [
    "# 군집된 label 유형별로 iteration 하면서 marker 별로 scatter plot 수행. \n",
    "for label in unique_labels:\n",
    "    label_cluster = cdf_cpy[cdf_cpy['kmeans_label']==label]\n",
    "    center_x_y = centers[label]\n",
    "    plt.scatter(x=label_cluster['유아비율(%)'], y=label_cluster['격자 당 어린이 보육시설 수'], edgecolor='k', \n",
    "                marker=markers[label] )\n",
    "    \n",
    "    # 군집별 중심 위치 좌표 시각화 \n",
    "    plt.scatter(x=center_x_y[2], y=center_x_y[3], s=200, color='white',\n",
    "                alpha=0.9, edgecolor='k', marker=markers[label])\n",
    "    plt.scatter(x=center_x_y[2], y=center_x_y[3], s=70, color='k', edgecolor='k', \n",
    "                marker='$%d$' % label)\n",
    "    print(label,'cluster',label_cluster.shape[0])\n",
    "\n",
    "plt.show()"
   ]
  },
  {
   "cell_type": "code",
   "execution_count": 28,
   "id": "c48e8d2a",
   "metadata": {},
   "outputs": [
    {
     "name": "stdout",
     "output_type": "stream",
     "text": [
      "0 cluster 265\n",
      "1 cluster 13\n",
      "2 cluster 55\n",
      "3 cluster 117\n",
      "4 cluster 33\n"
     ]
    },
    {
     "data": {
      "image/png": "[encoded data removed]",
      "text/plain": [
       "<Figure size 640x480 with 1 Axes>"
      ]
     },
     "metadata": {},
     "output_type": "display_data"
    }
   ],
   "source": [
    "# 군집된 label 유형별로 iteration 하면서 marker 별로 scatter plot 수행. \n",
    "for label in unique_labels:\n",
    "    label_cluster = cdf_cpy[cdf_cpy['kmeans_label']==label]\n",
    "    center_x_y = centers[label]\n",
    "    plt.scatter(x=label_cluster['노인비율(%)'], y=label_cluster['유아비율(%)'], edgecolor='k', \n",
    "                marker=markers[label] )\n",
    "    \n",
    "    # 군집별 중심 위치 좌표 시각화 \n",
    "    plt.scatter(x=center_x_y[0], y=center_x_y[2], s=200, color='white',\n",
    "                alpha=0.9, edgecolor='k', marker=markers[label])\n",
    "    plt.scatter(x=center_x_y[0], y=center_x_y[2], s=70, color='k', edgecolor='k', \n",
    "                marker='$%d$' % label)\n",
    "    print(label,'cluster',label_cluster.shape[0])\n",
    "\n",
    "plt.show()"
   ]
  },
  {
   "cell_type": "code",
   "execution_count": 29,
   "id": "9953f1c9",
   "metadata": {},
   "outputs": [
    {
     "name": "stdout",
     "output_type": "stream",
     "text": [
      "0 cluster 265\n",
      "1 cluster 13\n",
      "2 cluster 55\n",
      "3 cluster 117\n",
      "4 cluster 33\n"
     ]
    },
    {
     "data": {
      "image/png": "[encoded data removed]",
      "text/plain": [
       "<Figure size 640x480 with 1 Axes>"
      ]
     },
     "metadata": {},
     "output_type": "display_data"
    }
   ],
   "source": [
    "# 군집된 label 유형별로 iteration 하면서 marker 별로 scatter plot 수행. \n",
    "for label in unique_labels:\n",
    "    label_cluster = cdf_cpy[cdf_cpy['kmeans_label']==label]\n",
    "    center_x_y = centers[label]\n",
    "    plt.scatter(x=label_cluster['격자 당 경로당 수'], y=label_cluster['격자 당 어린이 보육시설 수'], edgecolor='k', \n",
    "                marker=markers[label] )\n",
    "    \n",
    "    # 군집별 중심 위치 좌표 시각화 \n",
    "    plt.scatter(x=center_x_y[1], y=center_x_y[3], s=200, color='white',\n",
    "                alpha=0.9, edgecolor='k', marker=markers[label])\n",
    "    plt.scatter(x=center_x_y[1], y=center_x_y[3], s=70, color='k', edgecolor='k', \n",
    "                marker='$%d$' % label)\n",
    "    print(label,'cluster',label_cluster.shape[0])\n",
    "\n",
    "plt.show()"
   ]
  },
  {
   "cell_type": "code",
   "execution_count": 30,
   "id": "b0cf4e5a",
   "metadata": {},
   "outputs": [],
   "source": [
    "grid['kmeans_label']=cdf_cpy['kmeans_label']"
   ]
  },
  {
   "cell_type": "code",
   "execution_count": 31,
   "id": "992b7b75",
   "metadata": {},
   "outputs": [
    {
     "data": {
      "text/html": [
       "<div>\n",
       "<style scoped>\n",
       "    .dataframe tbody tr th:only-of-type {\n",
       "        vertical-align: middle;\n",
       "    }\n",
       "\n",
       "    .dataframe tbody tr th {\n",
       "        vertical-align: top;\n",
       "    }\n",
       "\n",
       "    .dataframe thead th {\n",
       "        text-align: right;\n",
       "    }\n",
       "</style>\n",
       "<table border=\"1\" class=\"dataframe\">\n",
       "  <thead>\n",
       "    <tr style=\"text-align: right;\">\n",
       "      <th></th>\n",
       "      <th>x_index</th>\n",
       "      <th>y_index</th>\n",
       "      <th>격자 당 경로당 수</th>\n",
       "      <th>geometry</th>\n",
       "      <th>행정동</th>\n",
       "      <th>격자 당 어린이 보육시설 수</th>\n",
       "      <th>유아비율(%)</th>\n",
       "      <th>노인비율(%)</th>\n",
       "      <th>kmeans_label</th>\n",
       "    </tr>\n",
       "  </thead>\n",
       "  <tbody>\n",
       "    <tr>\n",
       "      <th>0</th>\n",
       "      <td>0</td>\n",
       "      <td>22</td>\n",
       "      <td>0</td>\n",
       "      <td>POLYGON ((127.0561797939232 37.53325271346528,...</td>\n",
       "      <td>자양4동</td>\n",
       "      <td>0</td>\n",
       "      <td>2.839451</td>\n",
       "      <td>20.913757</td>\n",
       "      <td>0</td>\n",
       "    </tr>\n",
       "    <tr>\n",
       "      <th>1</th>\n",
       "      <td>0</td>\n",
       "      <td>23</td>\n",
       "      <td>0</td>\n",
       "      <td>POLYGON ((127.05619047599266 37.53145004424569...</td>\n",
       "      <td>자양4동</td>\n",
       "      <td>0</td>\n",
       "      <td>2.839451</td>\n",
       "      <td>20.913757</td>\n",
       "      <td>0</td>\n",
       "    </tr>\n",
       "    <tr>\n",
       "      <th>2</th>\n",
       "      <td>0</td>\n",
       "      <td>24</td>\n",
       "      <td>0</td>\n",
       "      <td>POLYGON ((127.05620115711046 37.52964737447184...</td>\n",
       "      <td>자양4동</td>\n",
       "      <td>0</td>\n",
       "      <td>2.839451</td>\n",
       "      <td>20.913757</td>\n",
       "      <td>0</td>\n",
       "    </tr>\n",
       "    <tr>\n",
       "      <th>3</th>\n",
       "      <td>0</td>\n",
       "      <td>25</td>\n",
       "      <td>0</td>\n",
       "      <td>POLYGON ((127.05621183727676 37.52784470414376...</td>\n",
       "      <td>자양4동</td>\n",
       "      <td>0</td>\n",
       "      <td>2.839451</td>\n",
       "      <td>20.913757</td>\n",
       "      <td>0</td>\n",
       "    </tr>\n",
       "    <tr>\n",
       "      <th>4</th>\n",
       "      <td>1</td>\n",
       "      <td>20</td>\n",
       "      <td>0</td>\n",
       "      <td>POLYGON ((127.05842217001221 37.53686653680621...</td>\n",
       "      <td>자양4동</td>\n",
       "      <td>0</td>\n",
       "      <td>2.839451</td>\n",
       "      <td>20.913757</td>\n",
       "      <td>0</td>\n",
       "    </tr>\n",
       "    <tr>\n",
       "      <th>...</th>\n",
       "      <td>...</td>\n",
       "      <td>...</td>\n",
       "      <td>...</td>\n",
       "      <td>...</td>\n",
       "      <td>...</td>\n",
       "      <td>...</td>\n",
       "      <td>...</td>\n",
       "      <td>...</td>\n",
       "      <td>...</td>\n",
       "    </tr>\n",
       "    <tr>\n",
       "      <th>478</th>\n",
       "      <td>25</td>\n",
       "      <td>8</td>\n",
       "      <td>0</td>\n",
       "      <td>POLYGON ((127.11264035105809 37.55868932524784...</td>\n",
       "      <td>광장동</td>\n",
       "      <td>0</td>\n",
       "      <td>5.025170</td>\n",
       "      <td>11.665886</td>\n",
       "      <td>3</td>\n",
       "    </tr>\n",
       "    <tr>\n",
       "      <th>479</th>\n",
       "      <td>25</td>\n",
       "      <td>9</td>\n",
       "      <td>0</td>\n",
       "      <td>POLYGON ((127.11264968278773 37.55688665089398...</td>\n",
       "      <td>광장동</td>\n",
       "      <td>0</td>\n",
       "      <td>5.025170</td>\n",
       "      <td>11.665886</td>\n",
       "      <td>3</td>\n",
       "    </tr>\n",
       "    <tr>\n",
       "      <th>480</th>\n",
       "      <td>25</td>\n",
       "      <td>10</td>\n",
       "      <td>0</td>\n",
       "      <td>POLYGON ((127.11265901368601 37.55508397598633...</td>\n",
       "      <td>광장동</td>\n",
       "      <td>0</td>\n",
       "      <td>5.025170</td>\n",
       "      <td>11.665886</td>\n",
       "      <td>3</td>\n",
       "    </tr>\n",
       "    <tr>\n",
       "      <th>481</th>\n",
       "      <td>25</td>\n",
       "      <td>11</td>\n",
       "      <td>0</td>\n",
       "      <td>POLYGON ((127.11266834375294 37.55328130052497...</td>\n",
       "      <td>광장동</td>\n",
       "      <td>0</td>\n",
       "      <td>5.025170</td>\n",
       "      <td>11.665886</td>\n",
       "      <td>3</td>\n",
       "    </tr>\n",
       "    <tr>\n",
       "      <th>482</th>\n",
       "      <td>26</td>\n",
       "      <td>9</td>\n",
       "      <td>0</td>\n",
       "      <td>POLYGON ((127.11491404779768 37.55689405789824...</td>\n",
       "      <td>광장동</td>\n",
       "      <td>0</td>\n",
       "      <td>5.025170</td>\n",
       "      <td>11.665886</td>\n",
       "      <td>3</td>\n",
       "    </tr>\n",
       "  </tbody>\n",
       "</table>\n",
       "<p>483 rows × 9 columns</p>\n",
       "</div>"
      ],
      "text/plain": [
       "     x_index  y_index  격자 당 경로당 수   \n",
       "0          0       22           0  \\\n",
       "1          0       23           0   \n",
       "2          0       24           0   \n",
       "3          0       25           0   \n",
       "4          1       20           0   \n",
       "..       ...      ...         ...   \n",
       "478       25        8           0   \n",
       "479       25        9           0   \n",
       "480       25       10           0   \n",
       "481       25       11           0   \n",
       "482       26        9           0   \n",
       "\n",
       "                                              geometry   행정동  격자 당 어린이 보육시설 수   \n",
       "0    POLYGON ((127.0561797939232 37.53325271346528,...  자양4동                0  \\\n",
       "1    POLYGON ((127.05619047599266 37.53145004424569...  자양4동                0   \n",
       "2    POLYGON ((127.05620115711046 37.52964737447184...  자양4동                0   \n",
       "3    POLYGON ((127.05621183727676 37.52784470414376...  자양4동                0   \n",
       "4    POLYGON ((127.05842217001221 37.53686653680621...  자양4동                0   \n",
       "..                                                 ...   ...              ...   \n",
       "478  POLYGON ((127.11264035105809 37.55868932524784...   광장동                0   \n",
       "479  POLYGON ((127.11264968278773 37.55688665089398...   광장동                0   \n",
       "480  POLYGON ((127.11265901368601 37.55508397598633...   광장동                0   \n",
       "481  POLYGON ((127.11266834375294 37.55328130052497...   광장동                0   \n",
       "482  POLYGON ((127.11491404779768 37.55689405789824...   광장동                0   \n",
       "\n",
       "      유아비율(%)    노인비율(%)  kmeans_label  \n",
       "0    2.839451  20.913757             0  \n",
       "1    2.839451  20.913757             0  \n",
       "2    2.839451  20.913757             0  \n",
       "3    2.839451  20.913757             0  \n",
       "4    2.839451  20.913757             0  \n",
       "..        ...        ...           ...  \n",
       "478  5.025170  11.665886             3  \n",
       "479  5.025170  11.665886             3  \n",
       "480  5.025170  11.665886             3  \n",
       "481  5.025170  11.665886             3  \n",
       "482  5.025170  11.665886             3  \n",
       "\n",
       "[483 rows x 9 columns]"
      ]
     },
     "execution_count": 31,
     "metadata": {},
     "output_type": "execute_result"
    }
   ],
   "source": [
    "grid = grid.iloc[:,1:]\n",
    "grid"
   ]
  },
  {
   "cell_type": "code",
   "execution_count": 32,
   "id": "e64185fc",
   "metadata": {},
   "outputs": [
    {
     "data": {
      "text/plain": [
       "kmeans_label\n",
       "0    265\n",
       "3    117\n",
       "2     55\n",
       "4     33\n",
       "1     13\n",
       "Name: count, dtype: int64"
      ]
     },
     "execution_count": 32,
     "metadata": {},
     "output_type": "execute_result"
    }
   ],
   "source": [
    "grid['kmeans_label'].value_counts()"
   ]
  },
  {
   "attachments": {},
   "cell_type": "markdown",
   "id": "cba15994",
   "metadata": {},
   "source": []
  },
  {
   "cell_type": "code",
   "execution_count": 33,
   "id": "296a52c9",
   "metadata": {},
   "outputs": [],
   "source": [
    "grid.to_csv('clustered_grid.csv')"
   ]
  }
 ],
 "metadata": {
  "kernelspec": {
   "display_name": "Python 3 (ipykernel)",
   "language": "python",
   "name": "python3"
  },
  "language_info": {
   "codemirror_mode": {
    "name": "ipython",
    "version": 3
   },
   "file_extension": ".py",
   "mimetype": "text/x-python",
   "name": "python",
   "nbconvert_exporter": "python",
   "pygments_lexer": "ipython3",
   "version": "3.10.8"
  }
 },
 "nbformat": 4,
 "nbformat_minor": 5
}
